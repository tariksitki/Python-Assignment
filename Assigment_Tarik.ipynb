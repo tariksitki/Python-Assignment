{
  "nbformat": 4,
  "nbformat_minor": 0,
  "metadata": {
    "colab": {
      "name": "Assigment Tarik.ipynb",
      "provenance": [],
      "authorship_tag": "ABX9TyMJkKE0utwewsmeaO9RWGTX",
      "include_colab_link": true
    },
    "kernelspec": {
      "name": "python3",
      "display_name": "Python 3"
    },
    "language_info": {
      "name": "python"
    }
  },
  "cells": [
    {
      "cell_type": "markdown",
      "metadata": {
        "id": "view-in-github",
        "colab_type": "text"
      },
      "source": [
        "<a href=\"https://colab.research.google.com/github/tariksitki/Python-Assignment/blob/main/Assigment_Tarik.ipynb\" target=\"_parent\"><img src=\"https://colab.research.google.com/assets/colab-badge.svg\" alt=\"Open In Colab\"/></a>"
      ]
    },
    {
      "cell_type": "code",
      "metadata": {
        "colab": {
          "base_uri": "https://localhost:8080/"
        },
        "id": "2GYeanJcaXmq",
        "outputId": "ace7a033-00a4-47c0-e14e-18e213d91f6e"
      },
      "source": [
        "\n",
        "myname = \"Joseph\"\n",
        "first_name = input(\"Please input your name to see the password= \")\n",
        "\n",
        "if first_name.title() == myname:\n",
        "  print(f\"Hello Joseph! The password is: W@12\")\n",
        "else:\n",
        "  print(f\"Hello {first_name}! See you later.\")\n"
      ],
      "execution_count": 2,
      "outputs": [
        {
          "output_type": "stream",
          "name": "stdout",
          "text": [
            "Please input your name to see the password= Tarik\n",
            "Hello Tarik! See you later.\n"
          ]
        }
      ]
    }
  ]
}